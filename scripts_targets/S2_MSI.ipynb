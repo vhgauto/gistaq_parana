{
 "cells": [
  {
   "cell_type": "markdown",
   "metadata": {},
   "source": [
    "Librerías"
   ]
  },
  {
   "cell_type": "code",
   "execution_count": null,
   "metadata": {},
   "outputs": [],
   "source": [
    "# solicitudes HTTP\n",
    "import requests\n",
    "\n",
    "# manejo de datos\n",
    "import pandas as pd\n",
    "\n",
    "# fechas\n",
    "from datetime import datetime, timedelta\n",
    "\n",
    "# acceso a las credenciales\n",
    "import os\n",
    "\n",
    "# acceso al token\n",
    "import certifi\n",
    "\n",
    "# lectura de JSON, se usa al obtener el token\n",
    "import json"
   ]
  },
  {
   "cell_type": "markdown",
   "metadata": {},
   "source": [
    "Credenciales"
   ]
  },
  {
   "cell_type": "code",
   "execution_count": null,
   "metadata": {},
   "outputs": [],
   "source": [
    "os.environ['COPERNICUS_USERNAME'] = \"********************\"\n",
    "os.environ['COPERNICUS_PASSWORD'] = \"********************\""
   ]
  },
  {
   "cell_type": "markdown",
   "metadata": {},
   "source": [
    "Características de la búsqueda"
   ]
  },
  {
   "cell_type": "code",
   "execution_count": null,
   "metadata": {},
   "outputs": [],
   "source": [
    "catalogue_odata_url = \"https://catalogue.dataspace.copernicus.eu/odata/v1\"\n",
    "collection_name = \"SENTINEL-2\"\n",
    "max_cloud_cover = 1\n",
    "aoi = \"POINT(-58.81348666883592 -27.488354054598737)\""
   ]
  },
  {
   "cell_type": "markdown",
   "metadata": {},
   "source": [
    "Función para la descarga de S2-MSI"
   ]
  },
  {
   "cell_type": "code",
   "execution_count": null,
   "metadata": {},
   "outputs": [],
   "source": [
    "def descarga(fecha, product_type = \"S2MSI1C\"):\n",
    "  fecha_i = datetime.strptime(fecha, \"%Y%m%d\").strftime('%Y-%m-%d')\n",
    "  fecha_f = (datetime.strptime(fecha_i, \"%Y-%m-%d\") + timedelta(days=+1)).strftime('%Y-%m-%d')\n",
    "\n",
    "  search_period_start = f\"{fecha_i}T00:00:00.000Z\"\n",
    "  search_period_end = f\"{fecha_f}T00:00:00.000Z\"\n",
    "\n",
    "  search_query = f\"{catalogue_odata_url}/Products?$filter=Collection/Name eq '{collection_name}' and Attributes/OData.CSC.StringAttribute/any(att:att/Name eq 'productType' and att/OData.CSC.StringAttribute/Value eq '{product_type}') and OData.CSC.Intersects(area=geography'SRID=4326;{aoi}') and ContentDate/Start gt {search_period_start} and ContentDate/Start lt {search_period_end}\"\n",
    "\n",
    "  # respuesta del servidor y resultado\n",
    "  response = requests.get(search_query).json()\n",
    "  result = pd.DataFrame.from_dict(response[\"value\"])\n",
    "\n",
    "  # obtengo el token\n",
    "  auth_server_url = \"https://identity.dataspace.copernicus.eu/auth/realms/CDSE/protocol/openid-connect/token\"\n",
    "  data = {\n",
    "    \"client_id\": \"cdse-public\",\n",
    "    \"grant_type\": \"password\",\n",
    "    \"username\": os.environ[\"COPERNICUS_USERNAME\"],\n",
    "    \"password\": os.environ[\"COPERNICUS_PASSWORD\"],\n",
    "  }\n",
    "\n",
    "  response_cred = requests.post(\n",
    "    auth_server_url, data = data, verify = True, allow_redirects = False)\n",
    "  access_token = json.loads(response_cred.text)[\"access_token\"]\n",
    "\n",
    "  # LOOP\n",
    "  if len(result) == 0:\n",
    "    print(\"\\n\\n---NO HAY PRODUCTO DISPONIBLE PARA EL DÍA DE LA FECHA---\\n\\n\")\n",
    "  elif os.path.isfile(f\"../rasters/{fecha_i}.zip\"):\n",
    "    print(\"\\n\\n---PRODUCTO YA DESCARGADO---\\n\\n\")\n",
    "  else:\n",
    "    # ID y nombre del producto a descargar\n",
    "    producto_id = result[\"Id\"][0]\n",
    "    producto_nombre = result[\"Name\"][0]\n",
    "\n",
    "    print(\"Producto:\", producto_nombre)\n",
    "\n",
    "    # https://documentation.dataspace.copernicus.eu/APIs/OData.html#product-download\n",
    "\n",
    "    # URL de descarga del producto\n",
    "    url = f\"https://zipper.dataspace.copernicus.eu/odata/v1/Products({producto_id})/$value\"\n",
    "\n",
    "    headers = {\"Authorization\": f\"Bearer {access_token}\"}\n",
    "\n",
    "    session = requests.Session()\n",
    "    session.headers.update(headers)\n",
    "    response_prod = session.get(url, headers=headers, stream=True)\n",
    "\n",
    "    print(\"\\n\\n---DESCARGANDO PRODUCTO---\\n\\n\")\n",
    "\n",
    "    # descarga de .zip con SAFE\n",
    "    with open(f\"../rasters/{fecha_i}.zip\", \"wb\") as file:\n",
    "      for chunk in response_prod.iter_content(chunk_size=8192):\n",
    "        if chunk:\n",
    "          file.write(chunk)\n",
    "\n",
    "    print(\"\\n\\n---PRODUCTO DESCARGADO---\\n\\n\")"
   ]
  },
  {
   "cell_type": "code",
   "execution_count": null,
   "metadata": {},
   "outputs": [],
   "source": [
    "# S2MSI1C\n",
    "# S2MSI2A\n",
    "descarga(\"20250912\", product_type=\"S2MSI2A\")"
   ]
  }
 ],
 "metadata": {
  "kernelspec": {
   "display_name": "Python 3",
   "language": "python",
   "name": "python3"
  },
  "language_info": {
   "name": "python"
  }
 },
 "nbformat": 4,
 "nbformat_minor": 2
}
